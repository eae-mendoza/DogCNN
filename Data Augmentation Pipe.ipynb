{
 "cells": [
  {
   "cell_type": "code",
   "execution_count": 1,
   "id": "ea96ac65",
   "metadata": {},
   "outputs": [],
   "source": [
    "import cv2\n",
    "import numpy as np\n",
    "import os\n",
    "from random import shuffle\n",
    "from tqdm import tqdm\n",
    "from keras.preprocessing.image import ImageDataGenerator, array_to_img, img_to_array, load_img"
   ]
  },
  {
   "cell_type": "code",
   "execution_count": 8,
   "id": "00f322ac",
   "metadata": {},
   "outputs": [],
   "source": [
    "train_dir = 'train/train'"
   ]
  },
  {
   "cell_type": "code",
   "execution_count": 16,
   "id": "c310f101",
   "metadata": {},
   "outputs": [],
   "source": [
    "datagen = ImageDataGenerator(\n",
    "    rotation_range=40,\n",
    "    width_shift_range=0.2,\n",
    "    height_shift_range=0.2,\n",
    "    shear_range=0.2,\n",
    "    zoom_range=0.2,\n",
    "    horizontal_flip = True,\n",
    "    fill_mode='nearest')"
   ]
  },
  {
   "cell_type": "code",
   "execution_count": 15,
   "id": "e998fc98",
   "metadata": {},
   "outputs": [
    {
     "name": "stderr",
     "output_type": "stream",
     "text": [
      "100%|██████████████████████████████████████████████████████████████████████████| 25000/25000 [1:43:41<00:00,  4.02it/s]\n"
     ]
    }
   ],
   "source": [
    "for img_name in tqdm(os.listdir(train_dir)):\n",
    "    img = load_img(os.path.join(train_dir,img_name))\n",
    "    x = img_to_array(img)\n",
    "    x = x.reshape((1,) + x.shape)\n",
    "    i=0\n",
    "    word_label = img_name.split('.')[-3]\n",
    "    for batch in datagen.flow(x,batch_size=1,save_to_dir='training_augmented',save_prefix=word_label,save_format='jpeg'):\n",
    "        i+=1\n",
    "        if i>10:\n",
    "            break"
   ]
  },
  {
   "cell_type": "code",
   "execution_count": null,
   "id": "cd5b5e8b",
   "metadata": {},
   "outputs": [],
   "source": []
  }
 ],
 "metadata": {
  "kernelspec": {
   "display_name": "Python 3",
   "language": "python",
   "name": "python3"
  },
  "language_info": {
   "codemirror_mode": {
    "name": "ipython",
    "version": 3
   },
   "file_extension": ".py",
   "mimetype": "text/x-python",
   "name": "python",
   "nbconvert_exporter": "python",
   "pygments_lexer": "ipython3",
   "version": "3.8.8"
  }
 },
 "nbformat": 4,
 "nbformat_minor": 5
}
